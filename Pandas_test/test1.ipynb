{
 "cells": [
  {
   "cell_type": "code",
   "execution_count": 1,
   "outputs": [],
   "source": [
    "import numpy as np\n",
    "import pandas as pd"
   ],
   "metadata": {
    "collapsed": false,
    "pycharm": {
     "name": "#%%\n"
    }
   }
  },
  {
   "cell_type": "code",
   "execution_count": 10,
   "outputs": [
    {
     "name": "stdout",
     "output_type": "stream",
     "text": [
      "   A  B  C  D\n",
      "0  2  3  3  8\n",
      "1  1  4  3  4\n",
      "2  9  8  5  6\n",
      "<class 'pandas.core.frame.DataFrame'>\n"
     ]
    }
   ],
   "source": [
    "# 生成三行四列的随机数\n",
    "t = pd.DataFrame(np.random.randint(1,10,size=(3,4)),columns=['A','B','C','D']) #生成一个DataFrame\n",
    "print(t)\n",
    "print(type(t))"
   ],
   "metadata": {
    "collapsed": false,
    "pycharm": {
     "name": "#%%\n"
    }
   }
  },
  {
   "cell_type": "code",
   "execution_count": 9,
   "outputs": [
    {
     "name": "stdout",
     "output_type": "stream",
     "text": [
      "[[ 2.57367457  0.28174174 -0.27643763 -0.68553431]\n",
      " [-0.92048193 -1.00515187 -0.59520362  0.7453294 ]\n",
      " [ 0.78684167 -0.05306398 -0.37479235 -0.97068922]]\n",
      "<class 'numpy.ndarray'>\n"
     ]
    }
   ],
   "source": [
    "# 生成三行四列的随机数 生成一个Series\n",
    "array = np.random.randn(3,4)\n",
    "print(array)\n",
    "print(type(array))"
   ],
   "metadata": {
    "collapsed": false,
    "pycharm": {
     "name": "#%%\n"
    }
   }
  },
  {
   "cell_type": "code",
   "execution_count": 11,
   "outputs": [
    {
     "name": "stdout",
     "output_type": "stream",
     "text": [
      "          0         1         2         3\n",
      "0  2.573675  0.281742 -0.276438 -0.685534\n",
      "1 -0.920482 -1.005152 -0.595204  0.745329\n",
      "2  0.786842 -0.053064 -0.374792 -0.970689\n"
     ]
    }
   ],
   "source": [
    "df_obj = pd.DataFrame(array)\n",
    "print(df_obj.head())"
   ],
   "metadata": {
    "collapsed": false,
    "pycharm": {
     "name": "#%%\n"
    }
   }
  },
  {
   "cell_type": "code",
   "execution_count": 17,
   "outputs": [
    {
     "name": "stdout",
     "output_type": "stream",
     "text": [
      "{'A': 1, 'B': Timestamp('2019-09-26 00:00:00'), 'C': 0    1.0\n",
      "1    1.0\n",
      "2    1.0\n",
      "3    1.0\n",
      "dtype: float32, 'D': array([3, 3, 3, 3]), 'E': ['Python', 'Java', 'C++', 'C'], 'F': 'wangdao'}\n"
     ]
    }
   ],
   "source": [
    "dict_data = {'A': 1,  # 单个标量，广播到整个列\n",
    "    'B': pd.Timestamp('20190926'),  # 单个时间戳，广播到整个列\n",
    "    'C': pd.Series(1, index=list(range(4)), dtype='float32'),  # 长度为4的Series\n",
    "    'D': np.array([3] * 4, dtype='int32'),  # 长度为4的numpy数组\n",
    "    'E': [\"Python\", \"Java\", \"C++\", \"C\"],  # 长度为4的列表\n",
    "    'F': 'wangdao' } # 单个字符串，广播到整个列\n",
    "print(dict_data)"
   ],
   "metadata": {
    "collapsed": false,
    "pycharm": {
     "name": "#%%\n"
    }
   }
  },
  {
   "cell_type": "code",
   "execution_count": 15,
   "outputs": [
    {
     "name": "stdout",
     "output_type": "stream",
     "text": [
      "   A          B    C  D       E        F\n",
      "0  1 2019-09-26  1.0  3  Python  wangdao\n",
      "1  1 2019-09-26  1.0  3    Java  wangdao\n",
      "2  1 2019-09-26  1.0  3     C++  wangdao\n",
      "3  1 2019-09-26  1.0  3       C  wangdao\n"
     ]
    }
   ],
   "source": [
    "df_obj2 = pd.DataFrame(dict_data) # DataFrame\n",
    "print(df_obj2)"
   ],
   "metadata": {
    "collapsed": false,
    "pycharm": {
     "name": "#%%\n"
    }
   }
  },
  {
   "cell_type": "code",
   "execution_count": 23,
   "outputs": [
    {
     "name": "stdout",
     "output_type": "stream",
     "text": [
      "       name  age    tel\n",
      "0  xiaoming   20  10086\n",
      "1  xiaogang   32  10010\n",
      "====================================\n",
      "       name   age      tel\n",
      "0  xiaohong  32.0  10010.0\n",
      "1  xiaogang   NaN  10000.0\n",
      "2  xiaowang  22.0      NaN\n"
     ]
    }
   ],
   "source": [
    "d1={\"name\":[\"xiaoming\",\"xiaogang\"],\n",
    "    \"age\":[20,32],\n",
    "    \"tel\":[10086,10010]}\n",
    "print(pd.DataFrame(d1))\n",
    "print(\"====================================\")\n",
    "d2 =[{\"name\" : \"xiaohong\" ,\"age\" :32,\"tel\" :10010},\n",
    "     { \"name\":\"xiaogang\" ,\"tel\": 10000} ,\n",
    "     {\"name\":\"xiaowang\" ,\"age\":22}]\n",
    "print(pd.DataFrame(d2))"
   ],
   "metadata": {
    "collapsed": false,
    "pycharm": {
     "name": "#%%\n"
    }
   }
  },
  {
   "cell_type": "code",
   "execution_count": null,
   "outputs": [],
   "source": [],
   "metadata": {
    "collapsed": false,
    "pycharm": {
     "name": "#%%\n"
    }
   }
  }
 ],
 "metadata": {
  "kernelspec": {
   "display_name": "Python 3",
   "language": "python",
   "name": "python3"
  },
  "language_info": {
   "codemirror_mode": {
    "name": "ipython",
    "version": 2
   },
   "file_extension": ".py",
   "mimetype": "text/x-python",
   "name": "python",
   "nbconvert_exporter": "python",
   "pygments_lexer": "ipython2",
   "version": "2.7.6"
  }
 },
 "nbformat": 4,
 "nbformat_minor": 0
}